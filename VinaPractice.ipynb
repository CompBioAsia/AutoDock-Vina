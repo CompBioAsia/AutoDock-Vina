{
 "cells": [
  {
   "cell_type": "markdown",
   "id": "4c976405-07d8-4f7d-9861-adbc1fc13be0",
   "metadata": {},
   "source": [
    "## Load Python modules"
   ]
  },
  {
   "cell_type": "code",
   "execution_count": null,
   "id": "02f148c3-a7ba-48b6-b4cc-b329d6b8aaa1",
   "metadata": {},
   "outputs": [],
   "source": [
    "import os\n",
    "from vina import Vina\n",
    "# from biopandas.pdb import PandasPdb\n",
    "import pandas as pd\n",
    "import matplotlib.pyplot as plt\n",
    "from sklearn.linear_model import  LinearRegression\n",
    "import numpy as np\n",
    "import nglview as nv\n",
    "import mdtraj as mdt\n",
    "from crossflow.tasks import SubprocessTask"
   ]
  },
  {
   "cell_type": "markdown",
   "id": "27cab089-e43e-4ec3-bad6-3b88f17c1985",
   "metadata": {},
   "source": [
    "## Vina scores without docking (Step-by-step)"
   ]
  },
  {
   "cell_type": "markdown",
   "id": "803f0bf5-4d23-4fdd-8fa1-b11a14353410",
   "metadata": {},
   "source": [
    "### 1. Prepare Ligand File\n",
    "Formatted ligand files for AutoDock must be in pdbqt format and contain atom types supported by AutoDock, plus extra records that specify rotatable bonds. We can use a package called `Meeko` to convert a ligand file from PDB or SDF format to PDBQT format. `Meeko` computes charges for the entire ligand. Hydrogens have to be present in the ligand.  For convenience, we convert the Meeko command line tools into Python functions using `Crossflow`."
   ]
  },
  {
   "cell_type": "code",
   "execution_count": null,
   "id": "b277d2ea-e280-4f07-8349-0c6d24fe1888",
   "metadata": {},
   "outputs": [],
   "source": [
    "## Make a Python function \"prepare_ligand\":\n",
    "prepare_ligand = SubprocessTask('mk_prepare_ligand.py -i ligand.sdf -o ligand.pdbqt')\n",
    "prepare_ligand.set_inputs(['ligand.sdf'])\n",
    "prepare_ligand.set_outputs(['ligand.pdbqt'])\n",
    "\n",
    "## Use it to convert Ligand CAT13a to PDBQT\n",
    "ligand_pdbqt = prepare_ligand('ligands/CAT13a.sdf')"
   ]
  },
  {
   "cell_type": "markdown",
   "id": "21ab7600-133c-4b64-9aef-2fd232e7acea",
   "metadata": {},
   "source": [
    "### 2. Prepare Receptor\n",
    "For receptor preparation, we also need to convert it into pdbqt format using Meeko. AutoDock only keeps the polar hydrogens, unless specifically told otherwise. "
   ]
  },
  {
   "cell_type": "code",
   "execution_count": null,
   "id": "c1e07c7a-3ba3-4c44-9b59-b8f4565d4b09",
   "metadata": {},
   "outputs": [],
   "source": [
    "## Make a Python function \"prepare_receptor\":\n",
    "prepare_receptor = SubprocessTask('mk_prepare_receptor.py -i receptor.pdb --write_pdbqt receptor.pdbqt')\n",
    "prepare_receptor.set_inputs(['receptor.pdb'])\n",
    "prepare_receptor.set_outputs(['receptor.pdbqt'])\n",
    "## Convert Protein to PDBQT\n",
    "receptor_pdbqt = prepare_receptor('BACE_protein.pdb')"
   ]
  },
  {
   "cell_type": "markdown",
   "id": "a43e6d44-fa42-412f-9092-b1d50986fa38",
   "metadata": {},
   "source": [
    "### 3. Grid space and Docking Center\n",
    "We have to define a grid space to set the location and extent of the 3D area to be searched during the AutoDock experiment. The search space is defined by specifying a center (docking center), the number of points in each dimension, plus the spacing between points.\n",
    "\n",
    "The docking center refers to the point where we are supposed to test our docking. Typically, if we can identify a complex containing our target protein and a ligand bound to it, we can locate the center of that ligand and then test our docking with that center for our specific ligand. If a protein-ligand complex structure is not available to calculate the center, choose a center using a visualization tool, like ChimeraX. "
   ]
  },
  {
   "cell_type": "code",
   "execution_count": null,
   "id": "acfa59a3-16c7-43de-ac5e-bff4916f25db",
   "metadata": {},
   "outputs": [],
   "source": [
    "def get_ligand_center(ligand_file):\n",
    "    x_list, y_list, z_list = [], [], []\n",
    "    with open(ligand_file) as f:\n",
    "        for line in f:\n",
    "            if line.startswith(\"ATOM\") or line.startswith(\"HETATM\"):\n",
    "                x = float(line[30:38])\n",
    "                y = float(line[38:46])\n",
    "                z = float(line[46:54])\n",
    "                x_list.append(x)\n",
    "                y_list.append(y)\n",
    "                z_list.append(z)\n",
    "    center = [sum(x_list)/len(x_list), sum(y_list)/len(y_list), sum(z_list)/len(z_list)]\n",
    "    return center\n",
    "    \n",
    "center = get_ligand_center(ligand_pdbqt) ## use ligand_pdbqt to calculate center"
   ]
  },
  {
   "cell_type": "markdown",
   "id": "440544f0-1e07-45c7-8aa0-507200d7c919",
   "metadata": {},
   "source": [
    "### 4. Calculate Vina energy score for the MD conformations\n",
    "The protein-ligand complexes we are using in this exercise were collected from large-scale calculations of binding energy using MD simulations with the free energy perturbation (FEP) technique. Let's calculate the Vina score for the conformation generated by the MD simulations. We will also calculate the scores after minimizing the conformations using the AutoDock Vina force field. "
   ]
  },
  {
   "cell_type": "code",
   "execution_count": null,
   "id": "01a12db4",
   "metadata": {},
   "outputs": [],
   "source": [
    "## Docking Parameters\n",
    "v = Vina(sf_name='vina') #Name of the scoring function\n",
    "\n",
    "# Load receptor and ligand\n",
    "# Geek note: we have to wrap the crossflow objects with str() here because \n",
    "#   v.set_receptor() and v.set_ligand_from_file() don't understand Python paths.\n",
    "v.set_receptor(str(receptor_pdbqt))\n",
    "v.set_ligand_from_file(str(ligand_pdbqt))\n",
    "\n",
    "v.compute_vina_maps(center=center, box_size=[16, 16, 16])"
   ]
  },
  {
   "cell_type": "code",
   "execution_count": null,
   "id": "70731d6c-8866-4c2b-8e58-5a64e9450d53",
   "metadata": {},
   "outputs": [],
   "source": [
    "energy = v.score()\n",
    "print('Score before minimization: %.3f (kcal/mol)' % energy[0])\n",
    "\n",
    "energy_minimized = v.optimize()\n",
    "print('Score after minimization : %.3f (kcal/mol)' % energy_minimized[0])"
   ]
  },
  {
   "cell_type": "markdown",
   "id": "70697cf6-c297-4885-9fee-46616816bf5f",
   "metadata": {},
   "source": [
    "## 5. Combining all the steps\n",
    "Let's put all the steps together into one single function, and calculate the scores for all the protein-ligand complexes. "
   ]
  },
  {
   "cell_type": "code",
   "execution_count": null,
   "id": "ddb071a0-72cd-4f43-82b4-e824f81d4c1e",
   "metadata": {},
   "outputs": [],
   "source": [
    "def local_search(receptor, lig_id, result_file):\n",
    "    '''\n",
    "    Run a local search.\n",
    "\n",
    "    Args:\n",
    "        receptor:     pre-prepared receptor.pdbqt file\n",
    "        lig_id:       Id of the ligand to dock\n",
    "        results_file: name of file to store results\n",
    "    '''\n",
    "\n",
    "    ligand = prepare_ligand(f'ligands/{lig_id}.sdf')\n",
    "    center = get_ligand_center(ligand)\n",
    "\n",
    "    vina_instance = Vina(sf_name='vina')\n",
    "    vina_instance.set_receptor(str(receptor))\n",
    "    vina_instance.set_ligand_from_file(str(ligand))\n",
    "    \n",
    "    vina_instance.compute_vina_maps(center=center, box_size=[16, 16, 16])\n",
    "   \n",
    "    energy = vina_instance.score()\n",
    "    energy_minimized = vina_instance.optimize()\n",
    "    \n",
    "    ## If doesn't exist write header\n",
    "    if not os.path.exists(result_file):\n",
    "        with open(result_file, \"a\") as file:\n",
    "            file.write(f\"receptor,ligand,vina,vina_minimized\\n\")\n",
    "    REC = \"BACE\"\n",
    "    with open(result_file, \"a\") as file:\n",
    "        file.write(f\"{REC},{lig_id},{energy[0]:.3f},{energy_minimized[0]:.3f}\\n\")\n",
    "\n",
    "    print(f'local search for ligand {lig_id} complete')\n",
    "\n",
    "## Now run it on all ligands:\n",
    "lig_ids = [f'CAT13{x}' for x in 'abcdefghijkmno']\n",
    "\n",
    "for lig_id in lig_ids:\n",
    "    local_search(receptor_pdbqt, lig_id, \"scores.csv\")\n",
    "    "
   ]
  },
  {
   "cell_type": "markdown",
   "id": "24dc5fe2-8a49-4e44-9c1e-40cb76dd2ff8",
   "metadata": {},
   "source": [
    "### 6. Plotting\n",
    "We have provided 14 ligands for the receptor, and their experimental binding energies (deltaG_scores.csv). If you have calculated a minimized score for all 14 ligands using the previous cell, you can plot them against the experimental binding energies to see the correlation between the score and the experimental values. "
   ]
  },
  {
   "cell_type": "code",
   "execution_count": null,
   "id": "5d7eb05e-b531-4ae6-8435-04d7f949270d",
   "metadata": {},
   "outputs": [],
   "source": [
    "## Vina scores Vs. deltaG\n",
    "\n",
    "vina_results = 'scores.csv'\n",
    "deltaG_results = 'deltaG_scores.csv'\n",
    "\n",
    "df1 = pd.read_csv(vina_results)\n",
    "df2 = pd.read_csv(deltaG_results)\n",
    "\n",
    "df1 = pd.merge(df1, df2, on=[\"receptor\", \"ligand\"], how='inner')\n",
    "\n",
    "X = df1['deltaG']\n",
    "Y = df1[['vina_minimized']].values.ravel()\n",
    "    \n",
    "# --- Plot ---\n",
    "plt.figure(figsize=(8, 6))\n",
    "colors = ['#0072B2', '#E69F00']  # Blue, Orange\n",
    "markers = ['o', 's']\n",
    "linestyles = ['--', '-']\n",
    "\n",
    "# Plot: Vina\n",
    "plt.scatter(X, Y, color=colors[0], marker=markers[0], alpha=0.7)\n",
    "# Add keys\n",
    "for i, key in enumerate('abcdefghijkmno'):\n",
    "    plt.text(X[i], Y[i], key)\n",
    "# Add regression line\n",
    "reg1 = LinearRegression().fit(X.values.reshape(-1, 1), Y)\n",
    "x1 = np.linspace(X.min(), X.max(), 100)\n",
    "y1 = reg1.predict(x1.reshape(-1, 1))\n",
    "plt.plot(x1, y1, linestyle=linestyles[0], color=colors[0])\n",
    "plt.plot([], [], linestyle='-', color=colors[0])\n",
    "\n",
    "# Finalize plot (no square aspect)\n",
    "plt.xlabel(\"Experimental ΔG (Kcal/mol)\", fontsize=20)\n",
    "plt.ylabel(\"Vina Scores (Kcal/mol)\", fontsize=20)\n",
    "plt.xticks(fontsize=15)\n",
    "plt.yticks(fontsize=15)\n",
    "plt.legend(fontsize=18)\n",
    "plt.grid(True)\n",
    "plt.tight_layout()\n",
    "\n",
    "# Save plot\n",
    "#plot_path = f\"plot.png\"\n",
    "#plt.savefig(plot_path, dpi=300)\n",
    "plt.show()\n"
   ]
  },
  {
   "cell_type": "markdown",
   "id": "f21d105e-e9f6-4105-8642-84c2af518365",
   "metadata": {},
   "source": [
    "## 7.Running Docking\n",
    "Now we are going to run a docking exercise. We will assume that we know the pocket region (docking center) on the receptor, have prepared the PDBQT files for the ligand and the receptor, and we know the size of the grid space (box size). We will save the coordinates of the top nine ligand conformations or poses (n_poses=9) and perform an exhaustive search of the ligand poses in the pocket (exhaustiveness=64). Higher exhaustiveness requires a longer running time; however, it reduces the probability of missing a pose in your search. You can increase the exhaustiveness value while benchmarking your system to see if it produces a ligand with a lower score. exhaustiveness=64 is a good choice for accuracy. "
   ]
  },
  {
   "cell_type": "code",
   "execution_count": null,
   "id": "89e2829c",
   "metadata": {},
   "outputs": [],
   "source": [
    "## Run docking\n",
    "v = Vina(sf_name='vina')\n",
    "\n",
    "# Load receptor and ligand\n",
    "v.set_receptor(str(receptor_pdbqt))\n",
    "lig_id = 'CAT13a'\n",
    "ligand = prepare_ligand(f'ligands/{lig_id}.sdf')\n",
    "v.set_ligand_from_file(str(ligand))\n",
    "\n",
    "## Calculate center\n",
    "center = get_ligand_center(ligand)\n",
    "\n",
    "v.compute_vina_maps(center=center, box_size=[16, 16, 16]) #Change the box size. Also redefine center, if needed\n",
    "\n",
    "n_poses=9\n",
    "v.dock(exhaustiveness=64, n_poses=n_poses)\n",
    "print(v.energies())\n",
    "v.write_poses(f'docked_ligands/docked_{lig_id}.pdbqt', n_poses=n_poses, overwrite=True)"
   ]
  },
  {
   "cell_type": "markdown",
   "id": "b2d83509-698a-4afe-b5e5-0eea5f46b6f0",
   "metadata": {},
   "source": [
    "### 8.Splitting the poses\n",
    "Each output file from Autodock Vina will have the number of poses we requested. We will split the individual poses using the tool `openBabel` (turned into a function with `Crossflow` again), then reassemble each with a copy of the receptor to generate a \"trajectory\" so we can visualise the poses one by one using `nglview`:"
   ]
  },
  {
   "cell_type": "code",
   "execution_count": null,
   "id": "81212277-d155-4a6f-9178-6e6f603fd1ad",
   "metadata": {},
   "outputs": [],
   "source": [
    "## Split the poses:\n",
    "pose_split = SubprocessTask('obabel poses.pdbqt -O poses.pdb -m')\n",
    "pose_split.set_inputs(['poses.pdbqt'])\n",
    "pose_split.set_outputs(['poses?.pdb'])\n",
    "pose_pdbfiles = pose_split('docked_ligands/docked_CAT13a.pdbqt')\n",
    "\n",
    "## Assemble the trajectory frames:\n",
    "receptor = mdt.load('BACE_protein.pdb')\n",
    "complexes = None\n",
    "for pose_pdbfile in pose_pdbfiles:\n",
    "    pose = mdt.load(pose_pdbfile)\n",
    "    if complexes is None:\n",
    "        complexes = receptor.stack(pose)\n",
    "    else:\n",
    "        complexes += receptor.stack(pose)\n",
    "    "
   ]
  },
  {
   "cell_type": "markdown",
   "id": "06e97500-9c8b-4164-bd77-5400d0c14216",
   "metadata": {},
   "source": [
    "### 9. Visualization\n",
    "Let's visualize the poses"
   ]
  },
  {
   "cell_type": "code",
   "execution_count": null,
   "id": "03b0ede6",
   "metadata": {},
   "outputs": [],
   "source": [
    "## View poses as a trajectory\n",
    "view = nv.show_mdtraj(complexes)\n",
    "view"
   ]
  },
  {
   "cell_type": "markdown",
   "id": "3e03a0ae-721f-4079-8571-d382af83347c",
   "metadata": {},
   "source": [
    "### 10. Scores\n",
    "Let's look at the scores"
   ]
  },
  {
   "cell_type": "code",
   "execution_count": null,
   "id": "ad74a861",
   "metadata": {},
   "outputs": [],
   "source": [
    "## View scores\n",
    "energies = v.energies()  # Returns a list of tuples: (score, rmsd_l.b., rmsd_u.b.)\n",
    "\n",
    "for i, e in enumerate(energies):\n",
    "    print(f\"Pose {i}: Score = {e[0]} kcal/mol\")"
   ]
  },
  {
   "cell_type": "markdown",
   "id": "559e00eb-b441-4a2a-b44b-fc144dc6a0d2",
   "metadata": {},
   "source": [
    "### 11. Dock all the ligands\n",
    "\n",
    "Now repeat the docking for each ligand. This time only keep the top-scoring pose."
   ]
  },
  {
   "cell_type": "code",
   "execution_count": null,
   "id": "7ef6183f-1700-452f-ba59-11683de7fef2",
   "metadata": {},
   "outputs": [],
   "source": [
    "def dock_score(receptor, lig_id, result_file):\n",
    "    '''\n",
    "    Dock a ligand and report the score.\n",
    "\n",
    "    Args:\n",
    "        receptor: preprepared receptor.pdbqt file\n",
    "        lig_id: Id of the ligand to dock\n",
    "        results_file: name of file to store results\n",
    "    '''\n",
    "\n",
    "    ligand = prepare_ligand(f'ligands/{lig_id}.sdf')\n",
    "    center = get_ligand_center(ligand)\n",
    "\n",
    "    vina_instance = Vina(sf_name='vina')\n",
    "    vina_instance.set_receptor(str(receptor))\n",
    "    vina_instance.set_ligand_from_file(str(ligand))\n",
    "    \n",
    "    vina_instance.compute_vina_maps(center=center, box_size=[16, 16, 16])\n",
    "    energy = vina_instance.score()\n",
    "    vina_instance.dock(exhaustiveness=64, n_poses=1)\n",
    "    energy_docked = vina_instance.score()\n",
    "    \n",
    "    ## If doesn't exist write header\n",
    "    if not os.path.exists(result_file):\n",
    "        with open(result_file, \"a\") as file:\n",
    "            file.write(f\"receptor,ligand,vina,vina_docked\\n\")\n",
    "    REC = \"BACE\"\n",
    "    with open(result_file, \"a\") as file:\n",
    "        file.write(f\"{REC},{lig_id},{energy[0]:.3f},{energy_docked[0]:.3f}\\n\")\n",
    "\n",
    "    print(f'docking for ligand {lig_id} complete')\n",
    "\n",
    "## Now run it on all ligands:\n",
    "lig_ids = [f'CAT13{x}' for x in 'abcdefghijkmno']\n",
    "\n",
    "for lig_id in lig_ids:\n",
    "    dock_score(receptor_pdbqt, lig_id, \"dock_scores.csv\")"
   ]
  },
  {
   "cell_type": "markdown",
   "id": "9e28f6ef-6b14-4ab4-ae2b-1f8e86db72c1",
   "metadata": {},
   "source": [
    "### 12. Look at the scores"
   ]
  },
  {
   "cell_type": "code",
   "execution_count": null,
   "id": "4cbe6605-d2dc-4b8b-baab-ae797cfecacc",
   "metadata": {},
   "outputs": [],
   "source": [
    "## Vina scores Vs. deltaG\n",
    "\n",
    "vina_results = 'dock_scores.csv'\n",
    "deltaG_results = 'deltaG_scores.csv'\n",
    "\n",
    "df1 = pd.read_csv(vina_results)\n",
    "df2 = pd.read_csv(deltaG_results)\n",
    "\n",
    "df1 = pd.merge(df1, df2, on=[\"receptor\", \"ligand\"], how='inner')\n",
    "\n",
    "X = df1['deltaG']\n",
    "Y = df1[['vina_docked']].values.ravel()\n",
    "    \n",
    "# --- Plot ---\n",
    "plt.figure(figsize=(8, 6))\n",
    "colors = ['#0072B2', '#E69F00']  # Blue, Orange\n",
    "markers = ['o', 's']\n",
    "linestyles = ['--', '-']\n",
    "\n",
    "# Plot: Vina\n",
    "plt.scatter(X, Y, color=colors[0], marker=markers[0], alpha=0.7)\n",
    "# Add keys:\n",
    "for i, key in enumerate('abcdefghijkmno'):\n",
    "    plt.text(X[i], Y[i], key)\n",
    "# Add regression line:\n",
    "reg1 = LinearRegression().fit(X.values.reshape(-1, 1), Y)\n",
    "x1 = np.linspace(X.min(), X.max(), 100)\n",
    "y1 = reg1.predict(x1.reshape(-1, 1))\n",
    "plt.plot(x1, y1, linestyle=linestyles[0], color=colors[0])\n",
    "# plt.plot([], [], linestyle='-', color=colors[0])\n",
    "\n",
    "# Finalize plot (no square aspect)\n",
    "plt.xlabel(\"Experimental ΔG (Kcal/mol)\", fontsize=20)\n",
    "plt.ylabel(\"Vina Docking Scores (Kcal/mol)\", fontsize=20)\n",
    "plt.xticks(fontsize=15)\n",
    "plt.yticks(fontsize=15)\n",
    "plt.legend(fontsize=18)\n",
    "plt.grid(True)\n",
    "plt.tight_layout()\n",
    "\n",
    "# Save plot\n",
    "#plot_path = f\"plot.png\"\n",
    "#plt.savefig(plot_path, dpi=300)\n",
    "plt.show()"
   ]
  },
  {
   "cell_type": "markdown",
   "id": "8da789c8-25ee-4dc0-b55d-bc88b7ec160a",
   "metadata": {},
   "source": [
    "## 11. Exercise \n",
    "You can calculate RMSD values of the best and all the poses with the MD derived structure and plot them against the scores. \n",
    "\n",
    "#### Vina Score vs RMSD"
   ]
  },
  {
   "cell_type": "markdown",
   "id": "ef8909a9-f84c-4b7a-906f-c6b7addaffc7",
   "metadata": {},
   "source": [
    "## 12. Smina scores\n",
    "AutoDock Vina combines different interaction terms to produce the score. If we want to examine the individual terms of the interactions (and some additional terms) and create our own scoring function, we can use Smina. Smina requires the pdbqt file of the receptor and the docked ligand, and it returns all the individual scoring terms, which we can use to develop a scoring function specific to our system."
   ]
  },
  {
   "cell_type": "code",
   "execution_count": null,
   "id": "a0b98441-9f84-4043-8288-45010cd398a5",
   "metadata": {},
   "outputs": [],
   "source": [
    "## Smina\n",
    "#!smina -r receptor.pdbqt -l ligand.pdbqt --score_only --log score.log #Change the ligand files to get scored of the poses\n",
    "!smina -r receptor.pdbqt -l docked_ligands/docked_ligand2.pdbqt --score_only >> score.log #Change the ligand files to get scored of the poses\n",
    "#!smina -r receptor.pdbqt -l docked_ligands/docked_ligand2.pdbqt --score_only --log score.log"
   ]
  },
  {
   "cell_type": "code",
   "execution_count": null,
   "id": "3280d494-dc0c-4e4d-a960-71f1333d81c3",
   "metadata": {},
   "outputs": [],
   "source": [
    "## Print score file\n",
    "with open(\"score.log\", \"r\") as file:\n",
    "    content = file.read()\n",
    "    print(content)"
   ]
  },
  {
   "cell_type": "code",
   "execution_count": null,
   "id": "8aeab7c3-b9fb-4a4d-8dc1-ed3a72736d9e",
   "metadata": {},
   "outputs": [],
   "source": []
  }
 ],
 "metadata": {
  "kernelspec": {
   "display_name": "Python 3 (ipykernel)",
   "language": "python",
   "name": "python3"
  },
  "language_info": {
   "codemirror_mode": {
    "name": "ipython",
    "version": 3
   },
   "file_extension": ".py",
   "mimetype": "text/x-python",
   "name": "python",
   "nbconvert_exporter": "python",
   "pygments_lexer": "ipython3",
   "version": "3.10.18"
  }
 },
 "nbformat": 4,
 "nbformat_minor": 5
}
